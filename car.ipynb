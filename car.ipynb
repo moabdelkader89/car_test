{
 "cells": [
  {
   "cell_type": "code",
   "execution_count": 5,
   "metadata": {},
   "outputs": [
    {
     "name": "stdout",
     "output_type": "stream",
     "text": [
      "0        43661\n",
      "1        43661\n",
      "2        43661\n",
      "3        43661\n",
      "4        43661\n",
      "         ...  \n",
      "23598    71945\n",
      "23599    71945\n",
      "23600    71945\n",
      "23601    71945\n",
      "23602    71946\n",
      "Name: OrderID, Length: 23603, dtype: int64\n"
     ]
    }
   ],
   "source": [
    "import pandas as pd\n",
    "df=pd.read_excel(r\"C:\\Users\\mohamed\\Desktop\\car-test\\py.xlsx\")\n",
    "print(df['OrderID'])"
   ]
  }
 ],
 "metadata": {
  "kernelspec": {
   "display_name": "Python 3",
   "language": "python",
   "name": "python3"
  },
  "language_info": {
   "codemirror_mode": {
    "name": "ipython",
    "version": 3
   },
   "file_extension": ".py",
   "mimetype": "text/x-python",
   "name": "python",
   "nbconvert_exporter": "python",
   "pygments_lexer": "ipython3",
   "version": "3.12.3"
  }
 },
 "nbformat": 4,
 "nbformat_minor": 2
}
