{
 "cells": [
  {
   "cell_type": "code",
   "execution_count": 1,
   "metadata": {},
   "outputs": [
    {
     "name": "stdout",
     "output_type": "stream",
     "text": [
      "0        43661\n",
      "1        43661\n",
      "2        43661\n",
      "3        43661\n",
      "4        43661\n",
      "         ...  \n",
      "23598    71945\n",
      "23599    71945\n",
      "23600    71945\n",
      "23601    71945\n",
      "23602    71946\n",
      "Name: OrderID, Length: 23603, dtype: int64\n",
      "0           Shipped\n",
      "1           Shipped\n",
      "2           Shipped\n",
      "3           Shipped\n",
      "4           Shipped\n",
      "            ...    \n",
      "23598      Approved\n",
      "23599      Approved\n",
      "23600      Approved\n",
      "23601      Approved\n",
      "23602    In process\n",
      "Name: Status, Length: 23603, dtype: object\n",
      "0        809.7600\n",
      "1        714.7043\n",
      "2        714.7043\n",
      "3          5.1865\n",
      "4         28.8404\n",
      "           ...   \n",
      "23598     32.9940\n",
      "23599      4.7700\n",
      "23600     20.9940\n",
      "23601     20.9940\n",
      "23602     31.5840\n",
      "Name: UnitPrice, Length: 23603, dtype: float64\n",
      "0           Shipped\n",
      "1           Shipped\n",
      "2           Shipped\n",
      "3           Shipped\n",
      "4           Shipped\n",
      "            ...    \n",
      "23598      Approved\n",
      "23599      Approved\n",
      "23600      Approved\n",
      "23601      Approved\n",
      "23602    In process\n",
      "Name: Status, Length: 23603, dtype: object\n"
     ]
    }
   ],
   "source": [
    "import pandas as pd\n",
    "df=pd.read_excel(r\"C:\\Users\\mohamed\\Desktop\\car-test\\py.xlsx\")\n",
    "print(df['OrderID'])\n",
    "print(df['Status'])\n",
    "print(df['UnitPrice'])\n",
    "print(df['Status'])\n",
    "print(['OrderID'])\n",
    "print(df)"
   ]
  }
 ],
 "metadata": {
  "kernelspec": {
   "display_name": "Python 3",
   "language": "python",
   "name": "python3"
  },
  "language_info": {
   "codemirror_mode": {
    "name": "ipython",
    "version": 3
   },
   "file_extension": ".py",
   "mimetype": "text/x-python",
   "name": "python",
   "nbconvert_exporter": "python",
   "pygments_lexer": "ipython3",
   "version": "3.12.3"
  }
 },
 "nbformat": 4,
 "nbformat_minor": 2
}
